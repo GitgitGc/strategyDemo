{
 "cells": [
  {
   "cell_type": "code",
   "execution_count": 1,
   "metadata": {
    "collapsed": false
   },
   "outputs": [
    {
     "name": "stderr",
     "output_type": "stream",
     "text": [
      "root        : INFO     start QUANTAXIS\n",
      "root        : INFO     ip:127.0.0.1   port:27017\n",
      "root        : INFO     Welcome to QUANTAXIS, the Version is 0.3.9-beta-dev14\n"
     ]
    }
   ],
   "source": [
    "#list test\n",
    "import QUANTAXIS as QA\n",
    "import pymongo\n",
    "import json\n",
    "import datetime,time"
   ]
  },
  {
   "cell_type": "code",
   "execution_count": 2,
   "metadata": {
    "collapsed": false
   },
   "outputs": [
    {
     "data": {
      "text/plain": [
       "MongoClient(host=['127.0.0.1:27017'], document_class=dict, tz_aware=False, connect=True)"
      ]
     },
     "execution_count": 2,
     "metadata": {},
     "output_type": "execute_result"
    }
   ],
   "source": [
    "QA.QA_Setting().client"
   ]
  },
  {
   "cell_type": "code",
   "execution_count": 3,
   "metadata": {
    "collapsed": false
   },
   "outputs": [],
   "source": [
    "date_list=[]\n",
    "for item in QA.QA_fetch_trade_date(QA.QA_Setting().client.quantaxis.trade_date):\n",
    "    date_list.append(item['date'])"
   ]
  },
  {
   "cell_type": "code",
   "execution_count": 4,
   "metadata": {
    "collapsed": false
   },
   "outputs": [],
   "source": [
    "def get_real_date(date,trade_list):\n",
    "    print(date in trade_list)\n",
    "    while date not in trade_list:\n",
    "         date= str(datetime.datetime.strptime(date, '%Y-%m-%d')  + datetime.timedelta(days = 1))[0:10]\n",
    "    else: \n",
    "        print(date)\n",
    "       \n"
   ]
  },
  {
   "cell_type": "code",
   "execution_count": 8,
   "metadata": {
    "collapsed": false,
    "scrolled": true
   },
   "outputs": [
    {
     "name": "stdout",
     "output_type": "stream",
     "text": [
      "False\n"
     ]
    },
    {
     "data": {
      "text/plain": [
       "'1990-12-19'"
      ]
     },
     "execution_count": 8,
     "metadata": {},
     "output_type": "execute_result"
    }
   ],
   "source": [
    "QA.QA_util_get_real_date('1990-01-01',date_list)"
   ]
  },
  {
   "cell_type": "code",
   "execution_count": 23,
   "metadata": {
    "collapsed": false
   },
   "outputs": [
    {
     "data": {
      "text/plain": [
       "array([['600010', '2.59', '2.855', '2.57', '2.77', '3569858.0',\n",
       "        '2014-09-24'],\n",
       "       ['600010', '2.785', '2.92', '2.76', '2.81', '2787388.0',\n",
       "        '2014-09-25'],\n",
       "       ['600010', '2.825', '2.865', '2.765', '2.84', '2540321.0',\n",
       "        '2014-09-26'],\n",
       "       ['600010', '2.88', '2.91', '2.83', '2.88', '3819988.0', '2014-09-29']], \n",
       "      dtype='<U10')"
      ]
     },
     "execution_count": 23,
     "metadata": {},
     "output_type": "execute_result"
    }
   ],
   "source": [
    "market_data=QA.QA_fetch_stock_day('600010',QA.QA_Setting().client.quantaxis.stock_day)\n",
    "market_data[1:5]"
   ]
  },
  {
   "cell_type": "code",
   "execution_count": 25,
   "metadata": {
    "collapsed": false
   },
   "outputs": [
    {
     "data": {
      "text/plain": [
       "67"
      ]
     },
     "execution_count": 25,
     "metadata": {},
     "output_type": "execute_result"
    }
   ],
   "source": [
    "[ l[6] for l in market_data].index('2015-01-05')"
   ]
  },
  {
   "cell_type": "code",
   "execution_count": 38,
   "metadata": {
    "collapsed": false
   },
   "outputs": [],
   "source": [
    "stock_list=pymongo.MongoClient().quantaxis.trade_date.find()\n",
    "trade_date=[]\n",
    "trade_datestamp=[]\n",
    "for item in stock_list:\n",
    "    trade_date.append([item['date_stamp'],item['date']])"
   ]
  },
  {
   "cell_type": "code",
   "execution_count": 39,
   "metadata": {
    "collapsed": false
   },
   "outputs": [
    {
     "data": {
      "text/plain": [
       "661622400.0"
      ]
     },
     "execution_count": 39,
     "metadata": {},
     "output_type": "execute_result"
    }
   ],
   "source": [
    "trade_date[1][0]"
   ]
  }
 ],
 "metadata": {
  "kernelspec": {
   "display_name": "Python 3",
   "language": "python",
   "name": "python3"
  },
  "language_info": {
   "codemirror_mode": {
    "name": "ipython",
    "version": 3
   },
   "file_extension": ".py",
   "mimetype": "text/x-python",
   "name": "python",
   "nbconvert_exporter": "python",
   "pygments_lexer": "ipython3",
   "version": "3.6.0"
  }
 },
 "nbformat": 4,
 "nbformat_minor": 2
}
